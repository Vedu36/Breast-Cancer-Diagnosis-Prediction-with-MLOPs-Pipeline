{
 "cells": [
  {
   "cell_type": "code",
   "execution_count": 1,
   "id": "553ff990",
   "metadata": {
    "scrolled": true
   },
   "outputs": [],
   "source": [
    "#pip install langgraph"
   ]
  },
  {
   "cell_type": "code",
   "execution_count": 2,
   "id": "55f4fd9c",
   "metadata": {},
   "outputs": [],
   "source": [
    "#pip install optuna"
   ]
  },
  {
   "cell_type": "code",
   "execution_count": 3,
   "id": "10827103",
   "metadata": {},
   "outputs": [],
   "source": [
    "import joblib\n",
    "import pandas as pd\n",
    "from typing import TypedDict\n",
    "from langgraph.graph import StateGraph\n",
    "from sklearn.svm import SVC\n",
    "from sklearn.metrics import accuracy_score\n",
    "from sklearn.model_selection import train_test_split\n",
    "from sklearn.preprocessing import StandardScaler\n",
    "from groq import Groq\n",
    "import optuna"
   ]
  },
  {
   "cell_type": "code",
   "execution_count": 4,
   "id": "8d3e07ce",
   "metadata": {},
   "outputs": [],
   "source": [
    "# === Load & preprocess the breast cancer dataset ===\n",
    "df = pd.read_csv(\"Breast_Cancer.csv\")\n",
    "df.drop(columns=[\"Unnamed: 32\", \"id\"], inplace=True)\n",
    "df[\"diagnosis\"] = df[\"diagnosis\"].map({\"M\": 1, \"B\": 0})\n",
    "\n",
    "X = df.drop(\"diagnosis\", axis=1)\n",
    "y = df[\"diagnosis\"]\n",
    "\n",
    "x_train, x_test, y_train, y_test = train_test_split(X, y, test_size=0.2, random_state=42)\n",
    "\n",
    "scaler = StandardScaler()\n",
    "X_train = scaler.fit_transform(x_train)\n",
    "X_test = scaler.transform(x_test)"
   ]
  },
  {
   "cell_type": "code",
   "execution_count": 5,
   "id": "e7ee11a0",
   "metadata": {},
   "outputs": [],
   "source": [
    "# Save the scaler (used after retraining too)\n",
    "joblib.dump(scaler, \"scaler_1.pkl\")\n",
    "\n",
    "# === Load or train initial model ===\n",
    "model = joblib.load(\"svc_breast_cancer_model.pkl\")\n",
    "y_pred = model.predict(X_test)\n",
    "MODEL_ACCURACY = accuracy_score(y_test, y_pred)"
   ]
  },
  {
   "cell_type": "code",
   "execution_count": 6,
   "id": "559bea33",
   "metadata": {},
   "outputs": [],
   "source": [
    "# === Groq Setup ===\n",
    "client = Groq(api_key=\"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\")  # replace with your key\n",
    "\n",
    "# === Define LangGraph State ===\n",
    "class MLOpsState(TypedDict):\n",
    "    status: str\n",
    "    accuracy: float"
   ]
  },
  {
   "cell_type": "code",
   "execution_count": 7,
   "id": "f8bffd40",
   "metadata": {},
   "outputs": [],
   "source": [
    "# === Node 1: Monitor model performance ===\n",
    "def monitor_model(state: MLOpsState):\n",
    "    print(f\"Model Accuracy: {state['accuracy']}\")\n",
    "    return {\"status\": \"drift_detected\" if state[\"accuracy\"] < 0.90 else \"model_healthy\", \"accuracy\": state[\"accuracy\"]}\n"
   ]
  },
  {
   "cell_type": "code",
   "execution_count": 8,
   "id": "45a541d6",
   "metadata": {},
   "outputs": [],
   "source": [
    "# === Node 2: Ask Groq LLM if retraining is needed ===\n",
    "def ask_llm_to_retrain(state: MLOpsState):\n",
    "    prompt = \"The model accuracy has dropped below acceptable limits. Should I retrain the model?\"\n",
    "    response = client.chat.completions.create(\n",
    "        messages=[{\"role\": \"user\", \"content\": prompt}],\n",
    "        model=\"llama3-70b-8192\"\n",
    "    )\n",
    "    reply = response.choices[0].message.content.lower()\n",
    "    print(\"LLM says:\", reply)\n",
    "    return {\"status\": \"retrain\" if \"yes\" in reply else \"done\", \"accuracy\": state[\"accuracy\"]}\n"
   ]
  },
  {
   "cell_type": "code",
   "execution_count": 9,
   "id": "aedb7305",
   "metadata": {},
   "outputs": [],
   "source": [
    "# === Node 3: Retrain the model ===\n",
    "\n",
    "def objective(trial):\n",
    "    C = trial.suggest_loguniform(\"C\", 1e-3, 1e3)\n",
    "    gamma = trial.suggest_loguniform(\"gamma\", 1e-4, 1e1)\n",
    "\n",
    "    model = SVC(probability=True, C=C, gamma=gamma)\n",
    "    model.fit(X_train, y_train)\n",
    "    preds = model.predict(X_test)\n",
    "    return accuracy_score(y_test, preds)\n",
    "\n",
    "def retrain_model(state: MLOpsState):\n",
    "    print(\"Starting hyperparameter tuning with Optuna...\")\n",
    "\n",
    "    study = optuna.create_study(direction=\"maximize\")\n",
    "    study.optimize(objective, n_trials=20)\n",
    "\n",
    "    print(\"Best parameters:\", study.best_params)\n",
    "\n",
    "    # Retrain with best parameters\n",
    "    best_model = SVC(probability=True, **study.best_params)\n",
    "    best_model.fit(X_train, y_train)\n",
    "\n",
    "    new_accuracy = accuracy_score(y_test, best_model.predict(X_test))\n",
    "    joblib.dump(best_model, \"svc_breast_cancer_model.pkl\")\n",
    "\n",
    "    print(f\"Retrained model accuracy: {new_accuracy}\")\n",
    "    return {\"status\": \"deploy\", \"accuracy\": new_accuracy}\n"
   ]
  },
  {
   "cell_type": "code",
   "execution_count": 10,
   "id": "35a0adc3",
   "metadata": {},
   "outputs": [],
   "source": [
    "# === Node 4: Simulated deployment ===\n",
    "def deploy_model(state: MLOpsState):\n",
    "    print(f\"Deploying model with accuracy: {state['accuracy']}\")\n",
    "    return {\"status\": \"done\", \"accuracy\": state[\"accuracy\"]}"
   ]
  },
  {
   "cell_type": "code",
   "execution_count": 11,
   "id": "1775e0bf",
   "metadata": {},
   "outputs": [],
   "source": [
    "# === Node 5: End ===\n",
    "def done(state: MLOpsState):\n",
    "    print(\"MLOps Workflow Complete!\")\n",
    "    return state"
   ]
  },
  {
   "cell_type": "code",
   "execution_count": 12,
   "id": "7c36523e",
   "metadata": {},
   "outputs": [],
   "source": [
    "# === Build the LangGraph ===\n",
    "workflow = StateGraph(MLOpsState)\n",
    "workflow.add_node(\"monitor\", monitor_model)\n",
    "workflow.add_node(\"decision\", ask_llm_to_retrain)\n",
    "workflow.add_node(\"retrain\", retrain_model)\n",
    "workflow.add_node(\"deploy\", deploy_model)\n",
    "workflow.add_node(\"done\", done)\n",
    "\n",
    "workflow.set_entry_point(\"monitor\")\n",
    "workflow.add_conditional_edges(\"monitor\", lambda s: \"decision\" if s[\"status\"] == \"drift_detected\" else \"done\")\n",
    "workflow.add_conditional_edges(\"decision\", lambda s: \"retrain\" if s[\"status\"] == \"retrain\" else \"done\")\n",
    "workflow.add_edge(\"retrain\", \"deploy\")\n",
    "workflow.add_edge(\"deploy\", \"done\")\n",
    "\n",
    "agent = workflow.compile()"
   ]
  },
  {
   "cell_type": "code",
   "execution_count": 13,
   "id": "a85cd9fb",
   "metadata": {},
   "outputs": [
    {
     "name": "stdout",
     "output_type": "stream",
     "text": [
      "Model Accuracy: 0.9824561403508771\n",
      "MLOps Workflow Complete!\n",
      "Final Output: {'status': 'model_healthy', 'accuracy': 0.9824561403508771}\n"
     ]
    }
   ],
   "source": [
    "# === Run the Workflow ===\n",
    "output = agent.invoke({\"status\": \"monitoring\", \"accuracy\": MODEL_ACCURACY})\n",
    "print(\"Final Output:\", output)"
   ]
  },
  {
   "cell_type": "code",
   "execution_count": null,
   "id": "e9fc3ca8",
   "metadata": {},
   "outputs": [],
   "source": []
  }
 ],
 "metadata": {
  "kernelspec": {
   "display_name": "Python 3 (ipykernel)",
   "language": "python",
   "name": "python3"
  },
  "language_info": {
   "codemirror_mode": {
    "name": "ipython",
    "version": 3
   },
   "file_extension": ".py",
   "mimetype": "text/x-python",
   "name": "python",
   "nbconvert_exporter": "python",
   "pygments_lexer": "ipython3",
   "version": "3.10.13"
  }
 },
 "nbformat": 4,
 "nbformat_minor": 5
}
